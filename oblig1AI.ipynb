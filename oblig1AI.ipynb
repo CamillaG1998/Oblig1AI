{
 "cells": [
  {
   "cell_type": "code",
   "execution_count": 52,
   "source": [
    "%matplotlib inline\r\n",
    "import pandas as pd\r\n",
    "import numpy as np\r\n",
    "import matplotlib.pyplot as plt\r\n",
    "import seaborn as sns\r\n",
    "import re\r\n",
    "\r\n",
    "url = \"https://raw.githubusercontent.com/umaimehm/Intro_to_AI_2021/main/assignment1/Ruter_data.csv\"\r\n",
    "\r\n",
    "#Parse and remove unnecessary values for our 5 unique features\r\n",
    "df = pd.read_csv(url, sep=';')\r\n",
    "#Replace empty with Na and removes all Na values (drops all the rows and resets the index)\r\n",
    "#converts to datetime first to catch the null values\r\n",
    "df['Tidspunkt_Faktisk_Ankomst_Holdeplass_Fra'] = pd.to_datetime(df['Tidspunkt_Faktisk_Ankomst_Holdeplass_Fra'], errors='coerce')\r\n",
    "df['Tidspunkt_Planlagt_Ankomst_Holdeplass_Fra'] = pd.to_datetime(df['Tidspunkt_Planlagt_Ankomst_Holdeplass_Fra'], errors='coerce')\r\n",
    "df = df.drop([\"Holdeplass_Fra\", \"Holdeplass_Til\",\"Linjetype\",\"Linjefylke\",\"Område\",\"Fylke\",\"Tidspunkt_Faktisk_Avgang_Holdeplass_Fra\",\"Tidspunkt_Planlagt_Avgang_Holdeplass_Fra\",\"Linjenavn\", \"Linjeretning\"], axis=1)\r\n",
    "df = df.replace(r'^\\s*$', np.nan, regex=True) \r\n",
    "df = df.dropna()\r\n",
    "df = df.reset_index(drop=True)"
   ],
   "outputs": [],
   "metadata": {}
  },
  {
   "cell_type": "code",
   "execution_count": 53,
   "source": [
    "#removes negative values in 'Passasjerer_ombord'\r\n",
    "for index, row in df.iterrows():\r\n",
    "    row['Passasjerer_Ombord'] = pd.to_numeric(row['Passasjerer_Ombord'])\r\n",
    "    if row['Passasjerer_Ombord'] < 0:\r\n",
    "        df.loc[index, 'Passasjerer_Ombord'] = row['Passasjerer_Ombord']*-1\r\n"
   ],
   "outputs": [],
   "metadata": {}
  },
  {
   "cell_type": "code",
   "execution_count": 54,
   "source": [
    "#How many departues per day (dep_per_day)\r\n",
    "dfdato = df['Dato'].value_counts().rename_axis('Dato').to_frame('Antall')\r\n",
    "dfdato.head(20)"
   ],
   "outputs": [
    {
     "output_type": "execute_result",
     "data": {
      "text/html": [
       "<div>\n",
       "<style scoped>\n",
       "    .dataframe tbody tr th:only-of-type {\n",
       "        vertical-align: middle;\n",
       "    }\n",
       "\n",
       "    .dataframe tbody tr th {\n",
       "        vertical-align: top;\n",
       "    }\n",
       "\n",
       "    .dataframe thead th {\n",
       "        text-align: right;\n",
       "    }\n",
       "</style>\n",
       "<table border=\"1\" class=\"dataframe\">\n",
       "  <thead>\n",
       "    <tr style=\"text-align: right;\">\n",
       "      <th></th>\n",
       "      <th>Antall</th>\n",
       "    </tr>\n",
       "    <tr>\n",
       "      <th>Dato</th>\n",
       "      <th></th>\n",
       "    </tr>\n",
       "  </thead>\n",
       "  <tbody>\n",
       "    <tr>\n",
       "      <th>18/08/2020</th>\n",
       "      <td>110</td>\n",
       "    </tr>\n",
       "    <tr>\n",
       "      <th>19/08/2020</th>\n",
       "      <td>106</td>\n",
       "    </tr>\n",
       "    <tr>\n",
       "      <th>24/08/2020</th>\n",
       "      <td>100</td>\n",
       "    </tr>\n",
       "    <tr>\n",
       "      <th>28/08/2020</th>\n",
       "      <td>98</td>\n",
       "    </tr>\n",
       "    <tr>\n",
       "      <th>29/07/2020</th>\n",
       "      <td>97</td>\n",
       "    </tr>\n",
       "    <tr>\n",
       "      <th>17/07/2020</th>\n",
       "      <td>95</td>\n",
       "    </tr>\n",
       "    <tr>\n",
       "      <th>20/08/2020</th>\n",
       "      <td>94</td>\n",
       "    </tr>\n",
       "    <tr>\n",
       "      <th>17/08/2020</th>\n",
       "      <td>94</td>\n",
       "    </tr>\n",
       "    <tr>\n",
       "      <th>21/08/2020</th>\n",
       "      <td>91</td>\n",
       "    </tr>\n",
       "    <tr>\n",
       "      <th>14/08/2020</th>\n",
       "      <td>91</td>\n",
       "    </tr>\n",
       "    <tr>\n",
       "      <th>27/08/2020</th>\n",
       "      <td>90</td>\n",
       "    </tr>\n",
       "    <tr>\n",
       "      <th>31/07/2020</th>\n",
       "      <td>90</td>\n",
       "    </tr>\n",
       "    <tr>\n",
       "      <th>23/07/2020</th>\n",
       "      <td>89</td>\n",
       "    </tr>\n",
       "    <tr>\n",
       "      <th>12/08/2020</th>\n",
       "      <td>89</td>\n",
       "    </tr>\n",
       "    <tr>\n",
       "      <th>26/08/2020</th>\n",
       "      <td>87</td>\n",
       "    </tr>\n",
       "    <tr>\n",
       "      <th>10/08/2020</th>\n",
       "      <td>87</td>\n",
       "    </tr>\n",
       "    <tr>\n",
       "      <th>20/07/2020</th>\n",
       "      <td>86</td>\n",
       "    </tr>\n",
       "    <tr>\n",
       "      <th>03/08/2020</th>\n",
       "      <td>85</td>\n",
       "    </tr>\n",
       "    <tr>\n",
       "      <th>13/08/2020</th>\n",
       "      <td>83</td>\n",
       "    </tr>\n",
       "    <tr>\n",
       "      <th>05/08/2020</th>\n",
       "      <td>83</td>\n",
       "    </tr>\n",
       "  </tbody>\n",
       "</table>\n",
       "</div>"
      ],
      "text/plain": [
       "            Antall\n",
       "Dato              \n",
       "18/08/2020     110\n",
       "19/08/2020     106\n",
       "24/08/2020     100\n",
       "28/08/2020      98\n",
       "29/07/2020      97\n",
       "17/07/2020      95\n",
       "20/08/2020      94\n",
       "17/08/2020      94\n",
       "21/08/2020      91\n",
       "14/08/2020      91\n",
       "27/08/2020      90\n",
       "31/07/2020      90\n",
       "23/07/2020      89\n",
       "12/08/2020      89\n",
       "26/08/2020      87\n",
       "10/08/2020      87\n",
       "20/07/2020      86\n",
       "03/08/2020      85\n",
       "13/08/2020      83\n",
       "05/08/2020      83"
      ]
     },
     "metadata": {},
     "execution_count": 54
    }
   ],
   "metadata": {}
  },
  {
   "cell_type": "code",
   "execution_count": 55,
   "source": [
    "# Plot for hvor mange avganger det er per dato\r\n",
    "dfdato1 = dfdato.head(20)\r\n",
    "dfdato1.plot.bar()\r\n",
    "plt.show"
   ],
   "outputs": [
    {
     "output_type": "execute_result",
     "data": {
      "text/plain": [
       "<function matplotlib.pyplot.show(close=None, block=None)>"
      ]
     },
     "metadata": {},
     "execution_count": 55
    },
    {
     "output_type": "display_data",
     "data": {
      "image/png": "[encoded data removed]",
      "text/plain": [
       "<Figure size 432x288 with 1 Axes>"
      ]
     },
     "metadata": {
      "needs_background": "light"
     }
    }
   ],
   "metadata": {}
  },
  {
   "cell_type": "code",
   "execution_count": 56,
   "source": [
    "# unique feature, here you wil see how many departues there are from the different \"kommune\" (dep_per_kommune)\r\n",
    "df['Kommune'].value_counts()\r\n",
    "sns.countplot(x='Kommune', data=df)\r\n",
    "plt.xticks(rotation=90)"
   ],
   "outputs": [
    {
     "output_type": "execute_result",
     "data": {
      "text/plain": [
       "(array([ 0,  1,  2,  3,  4,  5,  6,  7,  8,  9, 10, 11, 12, 13, 14, 15, 16,\n",
       "        17, 18, 19, 20, 21, 22, 23, 24, 25, 26, 27, 28, 29, 30, 31, 32, 33]),\n",
       " [Text(0, 0, 'Bærum'),\n",
       "  Text(1, 0, 'Bjerke'),\n",
       "  Text(2, 0, 'St.Hanshaugen'),\n",
       "  Text(3, 0, 'Indre Østfold'),\n",
       "  Text(4, 0, 'Ullensaker'),\n",
       "  Text(5, 0, 'Sentrum'),\n",
       "  Text(6, 0, 'Eidsvoll'),\n",
       "  Text(7, 0, 'Lørenskog'),\n",
       "  Text(8, 0, 'Asker'),\n",
       "  Text(9, 0, 'Lillestrøm'),\n",
       "  Text(10, 0, 'Rælingen'),\n",
       "  Text(11, 0, 'Alna'),\n",
       "  Text(12, 0, 'Aurskog-Høland'),\n",
       "  Text(13, 0, 'Gamle Oslo'),\n",
       "  Text(14, 0, 'Nannestad'),\n",
       "  Text(15, 0, 'Hurdal'),\n",
       "  Text(16, 0, 'Gjerdrum'),\n",
       "  Text(17, 0, 'Enebakk'),\n",
       "  Text(18, 0, 'Stovner'),\n",
       "  Text(19, 0, 'Nes'),\n",
       "  Text(20, 0, 'Grünerløkka'),\n",
       "  Text(21, 0, 'Nordmarka'),\n",
       "  Text(22, 0, 'Grorud'),\n",
       "  Text(23, 0, 'Ullern'),\n",
       "  Text(24, 0, 'Vestre Aker'),\n",
       "  Text(25, 0, 'Nittedal'),\n",
       "  Text(26, 0, 'Nordstrand'),\n",
       "  Text(27, 0, 'Nordre Follo'),\n",
       "  Text(28, 0, 'Sagene'),\n",
       "  Text(29, 0, 'Søndre Nordstrand'),\n",
       "  Text(30, 0, 'Nordre Aker'),\n",
       "  Text(31, 0, 'Frogner'),\n",
       "  Text(32, 0, 'Lier'),\n",
       "  Text(33, 0, 'Drammen')])"
      ]
     },
     "metadata": {},
     "execution_count": 56
    },
    {
     "output_type": "display_data",
     "data": {
      "image/png": "[encoded data removed]",
      "text/plain": [
       "<Figure size 432x288 with 1 Axes>"
      ]
     },
     "metadata": {
      "needs_background": "light"
     }
    }
   ],
   "metadata": {}
  },
  {
   "cell_type": "code",
   "execution_count": 57,
   "source": [
    "#Creates a Delay column \r\n",
    "df['delay'] = df['Tidspunkt_Faktisk_Ankomst_Holdeplass_Fra'] - df['Tidspunkt_Planlagt_Ankomst_Holdeplass_Fra']\r\n",
    "df.head()\r\n"
   ],
   "outputs": [
    {
     "output_type": "execute_result",
     "data": {
      "text/html": [
       "<div>\n",
       "<style scoped>\n",
       "    .dataframe tbody tr th:only-of-type {\n",
       "        vertical-align: middle;\n",
       "    }\n",
       "\n",
       "    .dataframe tbody tr th {\n",
       "        vertical-align: top;\n",
       "    }\n",
       "\n",
       "    .dataframe thead th {\n",
       "        text-align: right;\n",
       "    }\n",
       "</style>\n",
       "<table border=\"1\" class=\"dataframe\">\n",
       "  <thead>\n",
       "    <tr style=\"text-align: right;\">\n",
       "      <th></th>\n",
       "      <th>TurId</th>\n",
       "      <th>Dato</th>\n",
       "      <th>Kommune</th>\n",
       "      <th>Tidspunkt_Faktisk_Ankomst_Holdeplass_Fra</th>\n",
       "      <th>Tidspunkt_Planlagt_Ankomst_Holdeplass_Fra</th>\n",
       "      <th>Kjøretøy_Kapasitet</th>\n",
       "      <th>Passasjerer_Ombord</th>\n",
       "      <th>delay</th>\n",
       "    </tr>\n",
       "  </thead>\n",
       "  <tbody>\n",
       "    <tr>\n",
       "      <th>0</th>\n",
       "      <td>15006-2020-08-10T10:24:00+02:00</td>\n",
       "      <td>10/08/2020</td>\n",
       "      <td>Bærum</td>\n",
       "      <td>2021-09-27 10:53:53</td>\n",
       "      <td>2021-09-27 10:53:00</td>\n",
       "      <td>112</td>\n",
       "      <td>5</td>\n",
       "      <td>0 days 00:00:53</td>\n",
       "    </tr>\n",
       "    <tr>\n",
       "      <th>1</th>\n",
       "      <td>15002-2020-08-15T12:54:00+02:00</td>\n",
       "      <td>15/08/2020</td>\n",
       "      <td>Bærum</td>\n",
       "      <td>2021-09-27 13:12:20</td>\n",
       "      <td>2021-09-27 13:12:00</td>\n",
       "      <td>112</td>\n",
       "      <td>5</td>\n",
       "      <td>0 days 00:00:20</td>\n",
       "    </tr>\n",
       "    <tr>\n",
       "      <th>2</th>\n",
       "      <td>15004-2020-08-03T09:54:00+02:00</td>\n",
       "      <td>03/08/2020</td>\n",
       "      <td>Bærum</td>\n",
       "      <td>2021-09-27 10:18:56</td>\n",
       "      <td>2021-09-27 10:19:00</td>\n",
       "      <td>112</td>\n",
       "      <td>6</td>\n",
       "      <td>-1 days +23:59:56</td>\n",
       "    </tr>\n",
       "    <tr>\n",
       "      <th>3</th>\n",
       "      <td>15003-2020-07-27T13:00:00+02:00</td>\n",
       "      <td>27/07/2020</td>\n",
       "      <td>Bærum</td>\n",
       "      <td>2021-09-27 13:52:04</td>\n",
       "      <td>2021-09-27 13:51:00</td>\n",
       "      <td>112</td>\n",
       "      <td>10</td>\n",
       "      <td>0 days 00:01:04</td>\n",
       "    </tr>\n",
       "    <tr>\n",
       "      <th>4</th>\n",
       "      <td>15002-2020-08-27T07:15:00+02:00</td>\n",
       "      <td>27/08/2020</td>\n",
       "      <td>Bærum</td>\n",
       "      <td>2021-09-27 07:34:13</td>\n",
       "      <td>2021-09-27 07:33:00</td>\n",
       "      <td>112</td>\n",
       "      <td>10</td>\n",
       "      <td>0 days 00:01:13</td>\n",
       "    </tr>\n",
       "  </tbody>\n",
       "</table>\n",
       "</div>"
      ],
      "text/plain": [
       "                             TurId        Dato Kommune  \\\n",
       "0  15006-2020-08-10T10:24:00+02:00  10/08/2020   Bærum   \n",
       "1  15002-2020-08-15T12:54:00+02:00  15/08/2020   Bærum   \n",
       "2  15004-2020-08-03T09:54:00+02:00  03/08/2020   Bærum   \n",
       "3  15003-2020-07-27T13:00:00+02:00  27/07/2020   Bærum   \n",
       "4  15002-2020-08-27T07:15:00+02:00  27/08/2020   Bærum   \n",
       "\n",
       "  Tidspunkt_Faktisk_Ankomst_Holdeplass_Fra  \\\n",
       "0                      2021-09-27 10:53:53   \n",
       "1                      2021-09-27 13:12:20   \n",
       "2                      2021-09-27 10:18:56   \n",
       "3                      2021-09-27 13:52:04   \n",
       "4                      2021-09-27 07:34:13   \n",
       "\n",
       "  Tidspunkt_Planlagt_Ankomst_Holdeplass_Fra  Kjøretøy_Kapasitet  \\\n",
       "0                       2021-09-27 10:53:00                 112   \n",
       "1                       2021-09-27 13:12:00                 112   \n",
       "2                       2021-09-27 10:19:00                 112   \n",
       "3                       2021-09-27 13:51:00                 112   \n",
       "4                       2021-09-27 07:33:00                 112   \n",
       "\n",
       "   Passasjerer_Ombord             delay  \n",
       "0                   5   0 days 00:00:53  \n",
       "1                   5   0 days 00:00:20  \n",
       "2                   6 -1 days +23:59:56  \n",
       "3                  10   0 days 00:01:04  \n",
       "4                  10   0 days 00:01:13  "
      ]
     },
     "metadata": {},
     "execution_count": 57
    }
   ],
   "metadata": {}
  },
  {
   "cell_type": "code",
   "execution_count": 58,
   "source": [
    "#Fjerner negative dager i delay og setter den til 00:00:00\r\n",
    "for index, row in df.iterrows():\r\n",
    "    if row['Tidspunkt_Faktisk_Ankomst_Holdeplass_Fra'] < row['Tidspunkt_Planlagt_Ankomst_Holdeplass_Fra']:\r\n",
    "        df.loc[index, 'delay'] = pd.to_datetime(\"00:00:00\") - pd.to_datetime(\"00:00:00\")\r\n",
    "\r\n",
    "#Lister opp alle nullverdier i delay kolonnen\r\n",
    "print(df[df['delay'].isnull()])"
   ],
   "outputs": [
    {
     "output_type": "stream",
     "name": "stdout",
     "text": [
      "Empty DataFrame\n",
      "Columns: [TurId, Dato, Kommune, Tidspunkt_Faktisk_Ankomst_Holdeplass_Fra, Tidspunkt_Planlagt_Ankomst_Holdeplass_Fra, Kjøretøy_Kapasitet, Passasjerer_Ombord, delay]\n",
      "Index: []\n"
     ]
    }
   ],
   "metadata": {}
  },
  {
   "cell_type": "code",
   "execution_count": 59,
   "source": [
    "# plot for delay\r\n",
    "delay_plot = df['delay'].head(150)\r\n",
    "plt.xlabel(\"Busser\")\r\n",
    "plt.ylabel(\"Forsinkelse i min\")\r\n",
    "delay_plot.plot.line()\r\n"
   ],
   "outputs": [
    {
     "output_type": "execute_result",
     "data": {
      "text/plain": [
       "<AxesSubplot:xlabel='Busser', ylabel='Forsinkelse i min'>"
      ]
     },
     "metadata": {},
     "execution_count": 59
    },
    {
     "output_type": "display_data",
     "data": {
      "image/png": "[encoded data removed]",
      "text/plain": [
       "<Figure size 432x288 with 1 Axes>"
      ]
     },
     "metadata": {
      "needs_background": "light"
     }
    }
   ],
   "metadata": {}
  },
  {
   "cell_type": "code",
   "execution_count": 60,
   "source": [
    "df_P = df['Passasjerer_Ombord'].head(100)\r\n",
    "df_K = df['Kjøretøy_Kapasitet'].head(100)\r\n",
    "plt.xlabel(\"Busser\")\r\n",
    "plt.ylabel(\"Antall Passasjerer\")\r\n",
    "df_P.plot()\r\n",
    "df_K.plot()\r\n",
    "#Blue : antall passasjerer ombord, orange: kapasitet for passasjerer"
   ],
   "outputs": [
    {
     "output_type": "execute_result",
     "data": {
      "text/plain": [
       "<AxesSubplot:xlabel='Busser', ylabel='Antall Passasjerer'>"
      ]
     },
     "metadata": {},
     "execution_count": 60
    },
    {
     "output_type": "display_data",
     "data": {
      "image/png": "[encoded data removed]",
      "text/plain": [
       "<Figure size 432x288 with 1 Axes>"
      ]
     },
     "metadata": {
      "needs_background": "light"
     }
    }
   ],
   "metadata": {}
  },
  {
   "cell_type": "code",
   "execution_count": 61,
   "source": [
    "#Når er det flest avganger\r\n",
    "\r\n",
    "#lager en midlertidig df\r\n",
    "tidsDf = df\r\n",
    "\r\n",
    "# code inspired by: https://stackoverflow.com/questions/48937900/round-time-to-nearest-hour-python\r\n",
    "# group by hour (tidspunkt) \r\n",
    "for index, row in tidsDf.iterrows():\r\n",
    "    if row['Tidspunkt_Faktisk_Ankomst_Holdeplass_Fra'].minute >= 30:\r\n",
    "        if row['Tidspunkt_Faktisk_Ankomst_Holdeplass_Fra'].hour == 23:\r\n",
    "            tidsDf.loc[index, 'Tidspunkt_Faktisk_Ankomst_Holdeplass_Fra'] = row['Tidspunkt_Faktisk_Ankomst_Holdeplass_Fra'].replace(second=0, minute=0, hour=0)\r\n",
    "        else:\r\n",
    "            tidsDf.loc[index, 'Tidspunkt_Faktisk_Ankomst_Holdeplass_Fra'] = row['Tidspunkt_Faktisk_Ankomst_Holdeplass_Fra'].replace(second=0, minute=0, hour=row['Tidspunkt_Faktisk_Ankomst_Holdeplass_Fra'].hour+1)\r\n",
    "    else:\r\n",
    "        tidsDf.loc[index, 'Tidspunkt_Faktisk_Ankomst_Holdeplass_Fra'] = row['Tidspunkt_Faktisk_Ankomst_Holdeplass_Fra'].replace(second=0, minute=0)\r\n",
    "\r\n",
    "# group by tid for å finne når det er flest avganger\r\n",
    "tidsDfGroup = tidsDf['Tidspunkt_Faktisk_Ankomst_Holdeplass_Fra'].value_counts()\r\n",
    "\r\n",
    "\r\n",
    "#lage plot\r\n",
    "tidsDfGroup.plot.line(y='Tidspunkt_Faktisk_Ankomst_Holdeplass_Fra')\r\n",
    "plt.xlabel(\"Tidspunkt\")\r\n",
    "plt.ylabel(\"Antall avganger\")\r\n",
    "plt.show()\r\n",
    "# Tidspunktet dukker opp med dags-dato (mm-dd tt) ettersom datetime ikke vil ta imot kun et tidspunkt \r\n",
    "# bare å ignorere datoen (klarte ikke å parse bort datoen)"
   ],
   "outputs": [],
   "metadata": {}
  }
 ],
 "metadata": {
  "kernelspec": {
   "name": "python3",
   "display_name": "Python 3.8.11 64-bit ('AI': conda)"
  },
  "language_info": {
   "codemirror_mode": {
    "name": "ipython",
    "version": 3
   },
   "file_extension": ".py",
   "mimetype": "text/x-python",
   "name": "python",
   "nbconvert_exporter": "python",
   "pygments_lexer": "ipython3",
   "version": "3.8.11"
  },
  "interpreter": {
   "hash": "34e9f3d777b94f313dd2fef7928528f40a132d8ac5f3b36f340a6e0646c289ad"
  }
 },
 "nbformat": 4,
 "nbformat_minor": 5
}